{
 "cells": [
  {
   "cell_type": "code",
   "execution_count": null,
   "metadata": {},
   "outputs": [
    {
     "name": "stderr",
     "output_type": "stream",
     "text": [
      "Platform 'METAL' is experimental and not all JAX functionality may be correctly supported!\n"
     ]
    },
    {
     "name": "stdout",
     "output_type": "stream",
     "text": [
      "Metal device set to: Apple M1 Pro\n",
      "\n",
      "systemMemory: 16.00 GB\n",
      "maxCacheSize: 5.33 GB\n",
      "\n"
     ]
    },
    {
     "name": "stderr",
     "output_type": "stream",
     "text": [
      "WARNING: All log messages before absl::InitializeLog() is called are written to STDERR\n",
      "W0000 00:00:1732052478.281757 4897080 mps_client.cc:510] WARNING: JAX Apple GPU support is experimental and not all JAX functionality is correctly supported!\n",
      "I0000 00:00:1732052478.301130 4897080 service.cc:145] XLA service 0x127732020 initialized for platform METAL (this does not guarantee that XLA will be used). Devices:\n",
      "I0000 00:00:1732052478.301153 4897080 service.cc:153]   StreamExecutor device (0): Metal, <undefined>\n",
      "I0000 00:00:1732052478.304619 4897080 mps_client.cc:406] Using Simple allocator.\n",
      "I0000 00:00:1732052478.304642 4897080 mps_client.cc:384] XLA backend will use up to 11452858368 bytes on device 0 for SimpleAllocator.\n"
     ]
    }
   ],
   "source": [
    "from jax import (\n",
    "  config,\n",
    "  jit,\n",
    "  numpy as jnp,\n",
    ")\n",
    "# If you are using Metal, Force JAX to use the CPU since not required ops are not supported on Metal\n",
    "# config.update(\"jax_platform_name\", \"cpu\")\n",
    "# Enable 64-bit float mode\n",
    "config.update('jax_enable_x64', True)\n",
    "\n",
    "from neural_complexity import calc_approximate_complexity\n",
    "\n",
    "# JAX JIT the function\n",
    "calc = jit(calc_approximate_complexity, static_argnums=(1))"
   ]
  },
  {
   "cell_type": "code",
   "execution_count": 11,
   "metadata": {},
   "outputs": [
    {
     "name": "stdout",
     "output_type": "stream",
     "text": [
      "Neural complexity: 6.100278778312322\n"
     ]
    }
   ],
   "source": [
    "import numpy as np\n",
    "# Obtain neural activation data\n",
    "# Where columns are neurons and rows are samples\n",
    "data = np.loadtxt(\"tests/data/polyworld_brain_activity_1.csv\", delimiter=\",\")\n",
    "\n",
    "data = jnp.array(data)\n",
    "\n",
    "# Calculate full neural complexity\n",
    "complexity = calc(data, 0)\n",
    "\n",
    "print(f\"Neural complexity: {complexity}\")"
   ]
  }
 ],
 "metadata": {
  "kernelspec": {
   "display_name": "research-env",
   "language": "python",
   "name": "python3"
  },
  "language_info": {
   "codemirror_mode": {
    "name": "ipython",
    "version": 3
   },
   "file_extension": ".py",
   "mimetype": "text/x-python",
   "name": "python",
   "nbconvert_exporter": "python",
   "pygments_lexer": "ipython3",
   "version": "3.10.15"
  }
 },
 "nbformat": 4,
 "nbformat_minor": 2
}
